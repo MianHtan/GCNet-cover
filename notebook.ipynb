{
 "cells": [
  {
   "cell_type": "code",
   "execution_count": 3,
   "metadata": {},
   "outputs": [],
   "source": [
    "import torch\n",
    "from torch import nn\n",
    "from torch.nn import functional as F "
   ]
  },
  {
   "cell_type": "code",
   "execution_count": 4,
   "metadata": {},
   "outputs": [],
   "source": [
    "class Residual(nn.Module):\n",
    "    def __init__(self, input_channel, output_channel, use_1x1conv=False,\n",
    "                 stride=1) -> None:\n",
    "        super().__init__()\n",
    "        self.conv1 = nn.Conv2d(in_channels=input_channel, out_channels=output_channel, kernel_size=3, \n",
    "                               padding=1, stride=stride)\n",
    "        self.conv2 = nn.Conv2d(in_channels=output_channel, out_channels=output_channel, kernel_size=3, \n",
    "                               padding=1, stride=stride)\n",
    "        if use_1x1conv:\n",
    "            self.conv3 = nn.Conv2d(in_channels=input_channel, out_channels=output_channel, kernel_size=1, \n",
    "                               padding=0, stride=stride)\n",
    "        else:\n",
    "            self.conv3 = None\n",
    "        self.bn1 = nn.BatchNorm2d(output_channel)\n",
    "        self.bn2 = nn.BatchNorm2d(output_channel)\n",
    "    \n",
    "    def forward(self, X):\n",
    "        Y = F.relu(self.bn1(self.conv1(X)))\n",
    "        Y = self.bn2(self.conv2(Y))\n",
    "        if self.conv3:\n",
    "            X = self.conv3(X)\n",
    "        Y = Y + X\n",
    "        return F.relu(Y)"
   ]
  },
  {
   "cell_type": "code",
   "execution_count": 5,
   "metadata": {},
   "outputs": [],
   "source": [
    "class GC_Extractor(nn.Module):\n",
    "    def __init__(self, input_channel, output_channel, num_resblock) -> None:\n",
    "        super(GC_Extractor, self).__init__()\n",
    "        self.conv_in = nn.Conv2d(in_channels=input_channel, out_channels=output_channel, kernel_size=5, padding=2, stride=2)\n",
    "        self.bn_in = nn.BatchNorm2d(output_channel)\n",
    "        self.resblock = self._make_layer(num_channel=output_channel, num_resblock=num_resblock)\n",
    "        self.conv_last = nn.Conv2d(in_channels=output_channel, out_channels=output_channel, kernel_size=3, padding=1, stride=1)\n",
    "    \n",
    "    def _make_layer(self, num_channel, num_resblock):\n",
    "        resblk = []\n",
    "        for i in range(num_resblock):\n",
    "            resblk.append(Residual(num_channel, num_channel))\n",
    "        return nn.Sequential(*resblk)    \n",
    "    \n",
    "    def forward(self, x):\n",
    "        x = self.conv_in(x)\n",
    "        x = self.bn_in(x)\n",
    "        x = F.relu(x)\n",
    "        x = self.resblock(x)\n",
    "        Y = self.conv_last(x)\n",
    "        return Y"
   ]
  },
  {
   "cell_type": "code",
   "execution_count": 24,
   "metadata": {},
   "outputs": [
    {
     "name": "stdout",
     "output_type": "stream",
     "text": [
      "torch.Size([2, 2, 3, 3])\n",
      "tensor([[[[1, 2, 3],\n",
      "          [4, 5, 6],\n",
      "          [7, 8, 9]],\n",
      "\n",
      "         [[9, 8, 7],\n",
      "          [6, 5, 4],\n",
      "          [3, 2, 1]]],\n",
      "\n",
      "\n",
      "        [[[1, 2, 3],\n",
      "          [4, 5, 6],\n",
      "          [7, 8, 9]],\n",
      "\n",
      "         [[9, 8, 7],\n",
      "          [6, 5, 4],\n",
      "          [3, 2, 1]]]])\n",
      "torch.Size([2, 2, 5, 3, 3])\n",
      "tensor([4, 6])\n"
     ]
    }
   ],
   "source": [
    "a = torch.tensor(\n",
    "    [[[[1,2,3],[4,5,6],[7,8,9]], \n",
    "    [[9,8,7],[6,5,4],[3,2,1]]],\n",
    "    [[[1,2,3],[4,5,6],[7,8,9]], \n",
    "    [[9,8,7],[6,5,4],[3,2,1]]]]\n",
    ")\n",
    "print(a.shape)\n",
    "print(a)\n",
    "b = a.unsqueeze(2)\n",
    "b = b.repeat(1,1,5,1,1)\n",
    "print(b.shape)\n",
    "print(b[1,:,1,1,0])"
   ]
  },
  {
   "cell_type": "code",
   "execution_count": 30,
   "metadata": {},
   "outputs": [],
   "source": [
    "def cost_volume(feaL, feaR, min_disp, max_disp):\n",
    "    B, C, H, W = feaL.shape\n",
    "    cost = torch.zeros(B, C*2, max_disp-min_disp, H, W)\n",
    "    cost[:, 0:C, :, :, :] = feaL.unsqueeze(2).repeat(1,1,max_disp-min_disp,1,1)\n",
    "    for i in range(min_disp, max_disp):\n",
    "        if i < 0:\n",
    "            cost[:, C:, i, :, :W+i] = feaR[:, :, :, -i:]\n",
    "        if i >= 0:\n",
    "            cost[:, C:, i, :, i:] = feaR[:, :, :, :W-i]\n",
    "    return cost"
   ]
  },
  {
   "cell_type": "code",
   "execution_count": 44,
   "metadata": {},
   "outputs": [],
   "source": [
    "# net = GC_Extractor(3, 32, 8)\n",
    "# x_l = torch.rand(4,3,99,99)\n",
    "# y_l = net(x_l)\n",
    "# x_r = torch.rand(4,3,99,99)\n",
    "# y_r = net(x_r)\n",
    "# print(y_l.shape, y_r.shape)\n",
    "# cost = cost_volume(y_l, y_r, -10, 10)\n",
    "# print(cost.shape)\n",
    "# print(cost[0, :, 1:3, 0, 5])\n"
   ]
  },
  {
   "cell_type": "code",
   "execution_count": null,
   "metadata": {},
   "outputs": [],
   "source": [
    "class GCNet(nn.Module):\n",
    "    def __init__(self):\n",
    "        super().__init__()\n",
    "        self.fea = nn.Sequential(*GC_Extractor(3, 32, 8))\n",
    "\n",
    "\n",
    "    def cost_volume(feaL, feaR, min_disp, max_disp):\n",
    "        B, C, H, W = feaL.shape\n",
    "        cost = torch.zeros(B, C*2, max_disp-min_disp, H, W)\n",
    "        cost[:, 0:C, :, :, :] = feaL.unsqueeze(2).repeat(1,1,max_disp-min_disp,1,1)\n",
    "        for i in range(min_disp, max_disp):\n",
    "            if i < 0:\n",
    "                cost[:, C:, i, :, :W+i] = feaR[:, :, :, -i:]\n",
    "            if i >= 0:\n",
    "                cost[:, C:, i, :, i:] = feaR[:, :, :, :W-i]\n",
    "        return cost\n",
    "    \n",
    "    def forward(self, imgL, imgR, min_disp, max_disp):\n",
    "        featureL = self.fea(imgL)\n",
    "        featureR = self.fea(imgR)\n",
    "        cost_vol = cost_volume(featureL, featureR, min_disp, max_disp) # B * 2C * maxdisp-mindisp * H * W\n",
    "        "
   ]
  }
 ],
 "metadata": {
  "kernelspec": {
   "display_name": "trt_starter",
   "language": "python",
   "name": "python3"
  },
  "language_info": {
   "codemirror_mode": {
    "name": "ipython",
    "version": 3
   },
   "file_extension": ".py",
   "mimetype": "text/x-python",
   "name": "python",
   "nbconvert_exporter": "python",
   "pygments_lexer": "ipython3",
   "version": "3.8.17"
  }
 },
 "nbformat": 4,
 "nbformat_minor": 2
}
