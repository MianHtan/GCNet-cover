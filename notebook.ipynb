{
 "cells": [
  {
   "cell_type": "code",
   "execution_count": 1,
   "metadata": {},
   "outputs": [],
   "source": [
    "import torch\n",
    "from torch import nn\n",
    "from torch.nn import functional as F "
   ]
  },
  {
   "cell_type": "code",
   "execution_count": 2,
   "metadata": {},
   "outputs": [],
   "source": [
    "class Residual(nn.Module):\n",
    "    def __init__(self, input_channel, output_channel, use_1x1conv=False,\n",
    "                 stride=1) -> None:\n",
    "        super().__init__()\n",
    "        self.conv1 = nn.Conv2d(in_channels=input_channel, out_channels=output_channel, kernel_size=3, \n",
    "                               padding=1, stride=stride)\n",
    "        self.conv2 = nn.Conv2d(in_channels=output_channel, out_channels=output_channel, kernel_size=3, \n",
    "                               padding=1, stride=stride)\n",
    "        if use_1x1conv:\n",
    "            self.conv3 = nn.Conv2d(in_channels=input_channel, out_channels=output_channel, kernel_size=1, \n",
    "                               padding=0, stride=stride)\n",
    "        else:\n",
    "            self.conv3 = None\n",
    "        self.bn1 = nn.BatchNorm2d(output_channel)\n",
    "        self.bn2 = nn.BatchNorm2d(output_channel)\n",
    "    \n",
    "    def forward(self, X):\n",
    "        Y = F.relu(self.bn1(self.conv1(X)))\n",
    "        Y = self.bn2(self.conv2(Y))\n",
    "        if self.conv3:\n",
    "            X = self.conv3(X)\n",
    "        Y = Y + X\n",
    "        return F.relu(Y)"
   ]
  },
  {
   "cell_type": "code",
   "execution_count": 14,
   "metadata": {},
   "outputs": [],
   "source": [
    "class GC_Extractor(nn.Module):\n",
    "    def __init__(self, input_channel, output_channel, num_resblock) -> None:\n",
    "        super(GC_Extractor, self).__init__()\n",
    "        self.conv_in = nn.Conv2d(in_channels=input_channel, out_channels=output_channel, kernel_size=5, padding=2, stride=2)\n",
    "        self.bn_in = nn.BatchNorm2d(output_channel)\n",
    "        self.resblock = self._make_layer(num_channel=output_channel, num_resblock=num_resblock)\n",
    "        self.conv_last = nn.Conv2d(in_channels=output_channel, out_channels=output_channel, kernel_size=3, padding=1, stride=1)\n",
    "    \n",
    "    def _make_layer(self, num_channel, num_resblock):\n",
    "        resblk = []\n",
    "        for i in range(num_resblock):\n",
    "            resblk.append(Residual(num_channel, num_channel))\n",
    "        return nn.Sequential(*resblk)    \n",
    "    \n",
    "    def forward(self, x):\n",
    "        x = self.conv_in(x)\n",
    "        x = self.bn_in(x)\n",
    "        x = F.relu(x)\n",
    "        x = self.resblock(x)\n",
    "        Y = self.conv_last(x)\n",
    "        return Y"
   ]
  },
  {
   "cell_type": "code",
   "execution_count": 15,
   "metadata": {},
   "outputs": [
    {
     "data": {
      "text/plain": [
       "torch.Size([4, 32, 50, 50])"
      ]
     },
     "execution_count": 15,
     "metadata": {},
     "output_type": "execute_result"
    }
   ],
   "source": [
    "# net = GC_Extractor(3, 32, 8)\n",
    "# x = torch.rand(4,3,99,99)\n",
    "# y = net(x)\n",
    "# y.shape\n"
   ]
  },
  {
   "cell_type": "code",
   "execution_count": null,
   "metadata": {},
   "outputs": [],
   "source": [
    "class GCNet(nn.Module):\n",
    "    def __init__(self):\n",
    "        super().__init__()\n",
    "        self."
   ]
  }
 ],
 "metadata": {
  "kernelspec": {
   "display_name": "trt_starter",
   "language": "python",
   "name": "python3"
  },
  "language_info": {
   "codemirror_mode": {
    "name": "ipython",
    "version": 3
   },
   "file_extension": ".py",
   "mimetype": "text/x-python",
   "name": "python",
   "nbconvert_exporter": "python",
   "pygments_lexer": "ipython3",
   "version": "3.8.17"
  }
 },
 "nbformat": 4,
 "nbformat_minor": 2
}
