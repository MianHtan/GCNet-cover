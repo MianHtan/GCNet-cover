{
 "cells": [
  {
   "cell_type": "code",
   "execution_count": 1,
   "metadata": {},
   "outputs": [
    {
     "name": "stdout",
     "output_type": "stream",
     "text": [
      "cuda:0\n"
     ]
    }
   ],
   "source": [
    "import torch\n",
    "from torch import nn\n",
    "from torch.nn import functional as F \n",
    "\n",
    "# print(torch.cuda.is_available())\n",
    "device = torch.device(\"cuda:0\" if torch.cuda.is_available else \"cpu\")\n",
    "print(device)"
   ]
  },
  {
   "cell_type": "code",
   "execution_count": 2,
   "metadata": {},
   "outputs": [
    {
     "name": "stdout",
     "output_type": "stream",
     "text": [
      "Number of model parameters: 2791905\n"
     ]
    }
   ],
   "source": [
    "from GCNet.GCNet import GCNet\n",
    "\n",
    "net = GCNet(device)\n",
    "print('Number of model parameters: {}'.format(sum([p.data.nelement() for p in net.parameters()])))\n",
    "\n",
    "net = net.to(device)\n",
    "net.train()\n",
    "optimizer = torch.optim.AdamW(net.parameters(), lr=0.01)\n",
    "# scheduler = torch.optim.lr_scheduler.OneCycleLR(optimizer, init_lr, num_steps + 100,\n",
    "#                                           pct_start=0.01, cycle_momentum=False, anneal_strategy='linear')\n",
    "    \n"
   ]
  },
  {
   "cell_type": "code",
   "execution_count": 3,
   "metadata": {},
   "outputs": [
    {
     "name": "stdout",
     "output_type": "stream",
     "text": [
      "2038\n"
     ]
    },
    {
     "name": "stderr",
     "output_type": "stream",
     "text": [
      "  0%|          | 0/2038 [00:01<?, ?it/s]"
     ]
    },
    {
     "name": "stdout",
     "output_type": "stream",
     "text": [
      "torch.Size([2, 512, 512])\n",
      "torch.Size([2, 512, 512])\n",
      "torch.Size([2, 512, 512])\n",
      "tensor([31.0578, 32.1045, 30.5283,  ..., 31.3817, 30.0077, 33.4769],\n",
      "       device='cuda:0', grad_fn=<IndexBackward0>)\n"
     ]
    },
    {
     "name": "stderr",
     "output_type": "stream",
     "text": [
      "\n"
     ]
    }
   ],
   "source": [
    "from utils.stereo_datasets import fetch_dataset, DFC2019\n",
    "from tqdm import tqdm\n",
    "import numpy as np\n",
    "\n",
    "train_loader = fetch_dataset(dataset_name = 'DFC2019', root = '/home/lab1/datasets/DFC2019_track2_grayscale_8bit',\n",
    "                            batch_size = 2, resize = [512, 512], mode = 'training')\n",
    "print(train_loader.__len__())\n",
    "\n",
    "for i_batch, data_blob in enumerate(tqdm(train_loader)):\n",
    "    imgl, imgr, disp, valid = [x.to(device) for x in data_blob]\n",
    "    disp_predict = net(imgl, imgr, 0, 64)\n",
    "    disp_predict = disp_predict.squeeze(1)\n",
    "    print(disp_predict.shape)    \n",
    "    print(disp.shape)\n",
    "    print(valid.shape)\n",
    "    # valid = disp != 0\n",
    "    # print(valid.shape)\n",
    "    print(disp_predict[valid])\n",
    "    break"
   ]
  },
  {
   "cell_type": "code",
   "execution_count": null,
   "metadata": {},
   "outputs": [],
   "source": [
    "class SmoothL1Loss(nn.Module):\n",
    "\n",
    "    def __init__(self):\n",
    "        super().__init__()\n",
    "\n",
    "    def forward(self, disp1,  target):\n",
    "        loss1 = F.smooth_l1_loss(disp1, target)\n",
    "        return loss1"
   ]
  },
  {
   "cell_type": "code",
   "execution_count": null,
   "metadata": {},
   "outputs": [],
   "source": [
    "criterion = SmoothL1Loss().to(device)\n",
    "\n",
    "optimizer.zero_grad()\n"
   ]
  },
  {
   "cell_type": "code",
   "execution_count": null,
   "metadata": {},
   "outputs": [],
   "source": [
    "loss = criterion(disp_predict, disp)\n"
   ]
  },
  {
   "cell_type": "code",
   "execution_count": null,
   "metadata": {},
   "outputs": [],
   "source": [
    "loss.backward()\n"
   ]
  },
  {
   "cell_type": "code",
   "execution_count": null,
   "metadata": {},
   "outputs": [],
   "source": [
    "optimizer.step()"
   ]
  },
  {
   "cell_type": "code",
   "execution_count": 19,
   "metadata": {},
   "outputs": [
    {
     "name": "stdout",
     "output_type": "stream",
     "text": [
      "1024 1024\n",
      "(512, 512, 3)\n",
      "tensor([[[ 0.2392,  0.1843,  0.1608,  ..., -0.3412, -0.3255, -0.2863],\n",
      "         [ 0.4039,  0.3725,  0.3412,  ..., -0.2471, -0.3176, -0.3333],\n",
      "         [ 0.4275,  0.4196,  0.3961,  ..., -0.2078, -0.2784, -0.3490],\n",
      "         ...,\n",
      "         [-0.0667, -0.0824, -0.0745,  ..., -0.7255, -0.7412, -0.6784],\n",
      "         [ 0.0353, -0.0118, -0.0588,  ..., -0.6706, -0.7098, -0.7490],\n",
      "         [ 0.2000,  0.1216,  0.0431,  ..., -0.6157, -0.4431, -0.4667]],\n",
      "\n",
      "        [[ 0.2392,  0.1843,  0.1608,  ..., -0.3412, -0.3255, -0.2863],\n",
      "         [ 0.4039,  0.3725,  0.3412,  ..., -0.2471, -0.3176, -0.3333],\n",
      "         [ 0.4275,  0.4196,  0.3961,  ..., -0.2078, -0.2784, -0.3490],\n",
      "         ...,\n",
      "         [-0.0667, -0.0824, -0.0745,  ..., -0.7255, -0.7412, -0.6784],\n",
      "         [ 0.0353, -0.0118, -0.0588,  ..., -0.6706, -0.7098, -0.7490],\n",
      "         [ 0.2000,  0.1216,  0.0431,  ..., -0.6157, -0.4431, -0.4667]],\n",
      "\n",
      "        [[ 0.2392,  0.1843,  0.1608,  ..., -0.3412, -0.3255, -0.2863],\n",
      "         [ 0.4039,  0.3725,  0.3412,  ..., -0.2471, -0.3176, -0.3333],\n",
      "         [ 0.4275,  0.4196,  0.3961,  ..., -0.2078, -0.2784, -0.3490],\n",
      "         ...,\n",
      "         [-0.0667, -0.0824, -0.0745,  ..., -0.7255, -0.7412, -0.6784],\n",
      "         [ 0.0353, -0.0118, -0.0588,  ..., -0.6706, -0.7098, -0.7490],\n",
      "         [ 0.2000,  0.1216,  0.0431,  ..., -0.6157, -0.4431, -0.4667]]])\n"
     ]
    }
   ],
   "source": [
    "from PIL import Image\n",
    "import numpy as np\n",
    "from torchvision import transforms\n",
    "\n",
    "filename = '/home/lab1/datasets/DFC2019_track2_grayscale_8bit/Track2-RGB-1/JAX_068_001_012_RIGHT_RGB.tif'\n",
    "disp = Image.open(filename)\n",
    "w, h = disp.size\n"
   ]
  },
  {
   "cell_type": "code",
   "execution_count": null,
   "metadata": {},
   "outputs": [],
   "source": []
  }
 ],
 "metadata": {
  "kernelspec": {
   "display_name": "trt_starter",
   "language": "python",
   "name": "python3"
  },
  "language_info": {
   "codemirror_mode": {
    "name": "ipython",
    "version": 3
   },
   "file_extension": ".py",
   "mimetype": "text/x-python",
   "name": "python",
   "nbconvert_exporter": "python",
   "pygments_lexer": "ipython3",
   "version": "3.8.17"
  }
 },
 "nbformat": 4,
 "nbformat_minor": 2
}
