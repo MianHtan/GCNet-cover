{
 "cells": [
  {
   "cell_type": "code",
   "execution_count": 1,
   "metadata": {},
   "outputs": [
    {
     "name": "stdout",
     "output_type": "stream",
     "text": [
      "cuda:0\n"
     ]
    }
   ],
   "source": [
    "import torch\n",
    "from torch import nn\n",
    "from torch.nn import functional as F \n",
    "\n",
    "# print(torch.cuda.is_available())\n",
    "device = torch.device(\"cuda:0\" if torch.cuda.is_available else \"cpu\")\n",
    "print(device)"
   ]
  },
  {
   "cell_type": "code",
   "execution_count": 2,
   "metadata": {},
   "outputs": [
    {
     "name": "stdout",
     "output_type": "stream",
     "text": [
      "Number of model parameters: 2791905\n"
     ]
    }
   ],
   "source": [
    "from GCNet.GCNet import GCNet\n",
    "\n",
    "net = GCNet(device)\n",
    "print('Number of model parameters: {}'.format(sum([p.data.nelement() for p in net.parameters()])))\n",
    "\n",
    "net = net.to(device)\n",
    "net.train()\n",
    "optimizer = torch.optim.AdamW(net.parameters(), lr=0.01)\n",
    "# scheduler = torch.optim.lr_scheduler.OneCycleLR(optimizer, init_lr, num_steps + 100,\n",
    "#                                           pct_start=0.01, cycle_momentum=False, anneal_strategy='linear')\n",
    "    \n",
    "\n"
   ]
  },
  {
   "cell_type": "code",
   "execution_count": 3,
   "metadata": {},
   "outputs": [
    {
     "name": "stderr",
     "output_type": "stream",
     "text": [
      "  0%|          | 0/4077 [00:00<?, ?it/s]\n"
     ]
    }
   ],
   "source": [
    "from utils.stereo_datasets import fetch_dataset, DFC2019\n",
    "from tqdm import tqdm\n",
    "\n",
    "train_loader = fetch_dataset(dataset_name = 'DFC2019', root = '/home/lab1/datasets/DFC2019_track2_grayscale_8bit',\n",
    "                            batch_size = 1, resize = [512, 512], mode = 'training')\n",
    "\n",
    "for i_batch, data_blob in enumerate(tqdm(train_loader)):\n",
    "    imgl, imgr, disp, valid = [x.to(device) for x in data_blob]\n",
    "    break"
   ]
  },
  {
   "cell_type": "code",
   "execution_count": 4,
   "metadata": {},
   "outputs": [
    {
     "name": "stdout",
     "output_type": "stream",
     "text": [
      "torch.Size([1, 1, 512, 512])\n"
     ]
    }
   ],
   "source": [
    "disp_predict = net(imgl, imgr, 0, 64)\n",
    "\n",
    "print(disp_predict.shape)"
   ]
  },
  {
   "cell_type": "code",
   "execution_count": 5,
   "metadata": {},
   "outputs": [
    {
     "name": "stdout",
     "output_type": "stream",
     "text": [
      "torch.float32\n"
     ]
    }
   ],
   "source": [
    "print(disp_predict.dtype)"
   ]
  },
  {
   "cell_type": "code",
   "execution_count": 6,
   "metadata": {},
   "outputs": [],
   "source": [
    "class SmoothL1Loss(nn.Module):\n",
    "\n",
    "    def __init__(self):\n",
    "        super().__init__()\n",
    "\n",
    "    def forward(self, disp1,  target):\n",
    "        loss1 = F.smooth_l1_loss(disp1, target)\n",
    "        return loss1"
   ]
  },
  {
   "cell_type": "code",
   "execution_count": 7,
   "metadata": {},
   "outputs": [],
   "source": [
    "criterion = SmoothL1Loss().to(device)\n",
    "\n",
    "optimizer.zero_grad()\n"
   ]
  },
  {
   "cell_type": "code",
   "execution_count": 9,
   "metadata": {},
   "outputs": [
    {
     "name": "stderr",
     "output_type": "stream",
     "text": [
      "/tmp/ipykernel_27167/3871178227.py:7: UserWarning: Using a target size (torch.Size([1, 512, 512])) that is different to the input size (torch.Size([1, 1, 512, 512])). This will likely lead to incorrect results due to broadcasting. Please ensure they have the same size.\n",
      "  loss1 = F.smooth_l1_loss(disp1, target)\n"
     ]
    }
   ],
   "source": [
    "loss = criterion(disp_predict, disp)\n"
   ]
  },
  {
   "cell_type": "code",
   "execution_count": null,
   "metadata": {},
   "outputs": [],
   "source": [
    "loss.backward()\n"
   ]
  },
  {
   "cell_type": "code",
   "execution_count": null,
   "metadata": {},
   "outputs": [],
   "source": [
    "optimizer.step()"
   ]
  },
  {
   "cell_type": "code",
   "execution_count": 2,
   "metadata": {},
   "outputs": [
    {
     "name": "stdout",
     "output_type": "stream",
     "text": [
      "1024 1024\n"
     ]
    },
    {
     "data": {
      "text/plain": [
       "(512, 512, 3)"
      ]
     },
     "execution_count": 2,
     "metadata": {},
     "output_type": "execute_result"
    }
   ],
   "source": [
    "from PIL import Image\n",
    "import numpy as np\n",
    "\n",
    "filename = '/home/lab1/datasets/DFC2019_track2_grayscale_8bit/Track2-RGB-1/JAX_068_001_012_RIGHT_RGB.tif'\n",
    "img = Image.open(filename)\n",
    "w, h = img.size\n",
    "print(w, h)\n",
    "size = [512,512]\n",
    "img = img.resize(size)\n",
    "img = np.array(img)\n",
    "img.shape"
   ]
  },
  {
   "cell_type": "code",
   "execution_count": 1,
   "metadata": {},
   "outputs": [
    {
     "name": "stderr",
     "output_type": "stream",
     "text": [
      "  0%|          | 0/2038 [00:01<?, ?it/s]"
     ]
    },
    {
     "name": "stdout",
     "output_type": "stream",
     "text": [
      "torch.Size([2, 3, 512, 512])\n",
      "torch.Size([2, 3, 512, 512])\n",
      "torch.Size([2, 512, 512])\n",
      "torch.Size([2, 512, 512])\n"
     ]
    },
    {
     "name": "stderr",
     "output_type": "stream",
     "text": [
      "\n"
     ]
    }
   ],
   "source": []
  },
  {
   "cell_type": "code",
   "execution_count": null,
   "metadata": {},
   "outputs": [],
   "source": []
  }
 ],
 "metadata": {
  "kernelspec": {
   "display_name": "trt_starter",
   "language": "python",
   "name": "python3"
  },
  "language_info": {
   "codemirror_mode": {
    "name": "ipython",
    "version": 3
   },
   "file_extension": ".py",
   "mimetype": "text/x-python",
   "name": "python",
   "nbconvert_exporter": "python",
   "pygments_lexer": "ipython3",
   "version": "3.8.17"
  }
 },
 "nbformat": 4,
 "nbformat_minor": 2
}
